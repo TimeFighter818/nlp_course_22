{
 "cells": [
  {
   "cell_type": "code",
   "execution_count": 1,
   "metadata": {
    "cell_id": "f2b23564266c49a688b20364b7d72b58",
    "deepnote_cell_height": 81,
    "deepnote_cell_type": "code",
    "deepnote_to_be_reexecuted": false,
    "execution_millis": 63561,
    "execution_start": 1650536542720,
    "source_hash": "c2602aa8",
    "tags": []
   },
   "outputs": [],
   "source": [
    "import numpy as np"
   ]
  },
  {
   "cell_type": "code",
   "execution_count": 2,
   "metadata": {
    "cell_id": "d13a9511154346bca6b22a3bffecdc39",
    "deepnote_cell_height": 117,
    "deepnote_cell_type": "code",
    "deepnote_to_be_reexecuted": false,
    "execution_millis": 63564,
    "execution_start": 1650536542721,
    "owner_user_id": "404006ab-2168-46c3-8454-22864dca3ad0",
    "source_hash": "1f7b512a",
    "tags": []
   },
   "outputs": [],
   "source": [
    "# hyper_parameters\n",
    "max_iter = 1000\n",
    "N = 100000"
   ]
  },
  {
   "cell_type": "code",
   "execution_count": 3,
   "metadata": {
    "cell_id": "447f1127be01432e829381858915e6d7",
    "deepnote_cell_height": 477,
    "deepnote_cell_type": "code",
    "deepnote_to_be_reexecuted": false,
    "execution_millis": 63564,
    "execution_start": 1650536542721,
    "source_hash": "d7c305a8",
    "tags": []
   },
   "outputs": [],
   "source": [
    "class Environment:\n",
    "    def __init__( self, N, s12, pqr ):\n",
    "        self.N = N\n",
    "        self.s1, self.s2 = s12\n",
    "        self.pqr = pqr\n",
    "\n",
    "    def __start_experiment( self ):\n",
    "        self.coins = np.random.rand( self.N )\n",
    "        for i in range( self.N ):\n",
    "            if( self.coins[ i ] < self.s1 ):\n",
    "                self.coins[i] = 0\n",
    "            elif( self.coins[i] < self.s1 + self.s2 ):\n",
    "                self.coins[i] = 1\n",
    "            else:\n",
    "                \n",
    "                self.coins[i] = 2\n",
    "        self.coins = self.coins.astype(np.int64)\n",
    "        self.seq = np.random.rand( self.N )\n",
    "        self.seq = [ ( self.seq[i] < self.pqr[ self.coins[i] ] ).astype(int)  for i in range( self.N )]\n",
    "    \n",
    "    def observe( self ):\n",
    "        self.__start_experiment()\n",
    "        return np.array(self.seq)"
   ]
  },
  {
   "cell_type": "code",
   "execution_count": 4,
   "metadata": {},
   "outputs": [],
   "source": [
    "np.random.seed(42)"
   ]
  },
  {
   "cell_type": "code",
   "execution_count": 5,
   "metadata": {
    "cell_id": "d46917d3-c3cb-41f9-9d2a-6024812349b3",
    "deepnote_cell_height": 153,
    "deepnote_cell_type": "code",
    "deepnote_to_be_reexecuted": false,
    "execution_millis": 462,
    "execution_start": 1650536542764,
    "source_hash": "aa6fbe01",
    "tags": []
   },
   "outputs": [],
   "source": [
    "s123 = np.random.rand(3)\n",
    "s123 = s123 / s123.sum(0)\n",
    "pqr = np.random.rand(3)\n",
    "env = Environment( N, s123[:2], pqr )"
   ]
  },
  {
   "cell_type": "code",
   "execution_count": 6,
   "metadata": {},
   "outputs": [
    {
     "name": "stdout",
     "output_type": "stream",
     "text": [
      "before EM\n",
      "[0.03807826 0.56784481 0.39407693]\n",
      "[0.18205878 0.46212909 0.35581214]\n",
      "[-0.14398052  0.10571572  0.03826479]\n",
      "[0.70807258 0.02058449 0.96990985]\n",
      "[0.59865848 0.15601864 0.15599452]\n",
      "[ 0.10941409 -0.13543415  0.81391533]\n",
      "after EM\n",
      "[0.02984444 0.73897847 0.23117709]\n",
      "[0.18205878 0.46212909 0.35581214]\n",
      "[-0.15221433  0.27684939 -0.12463505]\n",
      "[0.50950784 0.00892067 0.9324533 ]\n",
      "[0.59865848 0.15601864 0.15599452]\n",
      "[-0.08915064 -0.14709797  0.77645878]\n"
     ]
    }
   ],
   "source": [
    "# random initial parameters\n",
    "s123_iter = np.random.rand(3)\n",
    "s123_iter = s123_iter / s123_iter.sum(0)\n",
    "pqr_iter = np.random.rand(3)\n",
    "\n",
    "print(\"before EM\")\n",
    "print(s123_iter)\n",
    "print(s123)\n",
    "print(s123_iter - s123)\n",
    "print(pqr_iter)\n",
    "print(pqr)\n",
    "print(pqr_iter - pqr)\n",
    "\n",
    "# optimized solution\n",
    "for j in range(max_iter):\n",
    "    bits_seq = env.observe()\n",
    "    N = len( bits_seq )\n",
    "#     print(pqr_iter)\n",
    "    sum_ones = bits_seq.sum(0)\n",
    "    one_increment = pqr_iter * s123_iter \n",
    "#     print(one_increment)\n",
    "    one_increment = one_increment / one_increment.sum(0)\n",
    "    zero_increment = ( 1 - pqr_iter ) * s123_iter \n",
    "#     print(zero_increment)\n",
    "    zero_increment = zero_increment / zero_increment.sum(0)\n",
    "    coins_k = np.stack([ zero_increment * ( N - sum_ones ), one_increment * sum_ones ])\n",
    "#     print(coins_k)\n",
    "    pqr_iter = coins_k[1, :]/coins_k.sum(0)\n",
    "    if(np.min(pqr_iter)<0):\n",
    "        pqr_iter -= np.min(pqr_iter)\n",
    "    if(np.max(pqr_iter)>1.0):\n",
    "        pqr_iter = pqr_iter / ( np.max(pqr_iter) - np.min(pqr_iter) )\n",
    "#     print(coins_k)\n",
    "    s123_iter = coins_k.sum(0)\n",
    "    if(np.min(s123_iter)<0):\n",
    "        s123_iter -= np.min(s123_iter)\n",
    "    s123_iter = s123_iter / s123_iter.sum(0)\n",
    "#     print(s123_iter)\n",
    "#     print(s123)\n",
    "#     print(s123_iter - s123)\n",
    "#     print(pqr_iter)\n",
    "#     print(pqr)\n",
    "#     print(pqr_iter - pqr)\n",
    "\n",
    "print(\"after EM\")\n",
    "print(s123_iter)\n",
    "print(s123)\n",
    "print(s123_iter - s123)\n",
    "print(pqr_iter)\n",
    "print(pqr)\n",
    "print(pqr_iter - pqr)"
   ]
  },
  {
   "cell_type": "code",
   "execution_count": 7,
   "metadata": {},
   "outputs": [
    {
     "name": "stdout",
     "output_type": "stream",
     "text": [
      "before EM\n",
      "[0.159291   0.41403962 0.42666938]\n",
      "[0.18205878 0.46212909 0.35581214]\n",
      "[-0.02276777 -0.04808947  0.07085724]\n",
      "[0.39676982 0.08162467 0.12740918]\n",
      "[0.59865848 0.15601864 0.15599452]\n",
      "[-0.20188867 -0.07439397 -0.02858534]\n",
      "after EM\n",
      "[0.18516575 0.39492868 0.41990558]\n",
      "[0.18205878 0.46212909 0.35581214]\n",
      "[ 0.00310697 -0.06720041  0.06409344]\n",
      "[0.53305352 0.13364302 0.20218184]\n",
      "[0.59865848 0.15601864 0.15599452]\n",
      "[-0.06560496 -0.02237562  0.04618732]\n"
     ]
    }
   ],
   "source": [
    "# initial parameters near groundtruth\n",
    "s123_sigma = 1e-1\n",
    "s123_iter = np.random.normal(s123, s123_sigma)\n",
    "s123_iter = np.abs(s123_iter)\n",
    "s123_iter = s123_iter / s123_iter.sum(0)\n",
    "pqr_sigma = 1e-1\n",
    "pqr_iter = np.random.normal(pqr, pqr_sigma)\n",
    "print(\"before EM\")\n",
    "print(s123_iter)\n",
    "print(s123)\n",
    "print(s123_iter - s123)\n",
    "print(pqr_iter)\n",
    "print(pqr)\n",
    "print(pqr_iter - pqr)\n",
    "\n",
    "# optimized solution\n",
    "for j in range(max_iter):\n",
    "    bits_seq = env.observe()\n",
    "    N = len( bits_seq )\n",
    "#     print(pqr_iter)\n",
    "    sum_ones = bits_seq.sum(0)\n",
    "    one_increment = pqr_iter * s123_iter \n",
    "#     print(one_increment)\n",
    "    one_increment = one_increment / one_increment.sum(0)\n",
    "    zero_increment = ( 1 - pqr_iter ) * s123_iter \n",
    "#     print(zero_increment)\n",
    "    zero_increment = zero_increment / zero_increment.sum(0)\n",
    "    coins_k = np.stack([ zero_increment * ( N - sum_ones ), one_increment * sum_ones ])\n",
    "#     print(coins_k)\n",
    "    pqr_iter = coins_k[1, :]/coins_k.sum(0)\n",
    "    if(np.min(pqr_iter)<0):\n",
    "        pqr_iter -= np.min(pqr_iter)\n",
    "    if(np.max(pqr_iter)>1):\n",
    "        pqr_iter = pqr_iter / ( np.max(pqr_iter) - np.min(pqr_iter) )\n",
    "#     print(coins_k)\n",
    "    s123_iter = coins_k.sum(0)\n",
    "    if(np.min(s123_iter)<0):\n",
    "        s123_iter -= np.min(s123_iter)\n",
    "    s123_iter = s123_iter / s123_iter.sum(0)\n",
    "#     print(s123_iter)\n",
    "#     print(s123)\n",
    "#     print(s123_iter - s123)\n",
    "#     print(pqr_iter)\n",
    "#     print(pqr)\n",
    "#     print(pqr_iter - pqr)\n",
    "\n",
    "print(\"after EM\")\n",
    "print(s123_iter)\n",
    "print(s123)\n",
    "print(s123_iter - s123)\n",
    "print(pqr_iter)\n",
    "print(pqr)\n",
    "print(pqr_iter - pqr)"
   ]
  },
  {
   "cell_type": "code",
   "execution_count": 8,
   "metadata": {},
   "outputs": [
    {
     "name": "stdout",
     "output_type": "stream",
     "text": [
      "[0.18516575 0.39492868 0.41990558]\n",
      "[0.18205878 0.46212909 0.35581214]\n",
      "[ 0.00310697 -0.06720041  0.06409344]\n",
      "[0.53305352 0.13364302 0.20218184]\n",
      "[0.59865848 0.15601864 0.15599452]\n",
      "[-0.06560496 -0.02237562  0.04618732]\n"
     ]
    }
   ],
   "source": [
    "print(s123_iter)\n",
    "print(s123)\n",
    "print(s123_iter - s123)\n",
    "print(pqr_iter)\n",
    "print(pqr)\n",
    "print(pqr_iter - pqr)"
   ]
  },
  {
   "cell_type": "code",
   "execution_count": 9,
   "metadata": {
    "cell_id": "200876ef581548d2a717e1f7d5b882da",
    "deepnote_cell_height": 423,
    "deepnote_cell_type": "code",
    "deepnote_output_heights": [
     40.390625,
     194
    ],
    "deepnote_to_be_reexecuted": false,
    "execution_millis": 2566,
    "execution_start": 1650536543241,
    "source_hash": "58e0d744",
    "tags": []
   },
   "outputs": [],
   "source": [
    "# # original solution\n",
    "# # too slow\n",
    "# s123_iter = np.random.rand(3)\n",
    "# s123_iter = s123_iter / s123_iter.sum(0)\n",
    "# pqr_iter = np.random.rand(3)\n",
    "# N = len( bits_seq )\n",
    "# for j in range(max_iter):\n",
    "#     coins_k = np.zeros( ( 3, 2 ) )\n",
    "#     for i in range( N ):\n",
    "#         if( bits_seq[i] ):\n",
    "#             likelihood_k = pqr_iter\n",
    "#             posteriori_k = likelihood_k * s123_iter\n",
    "#             posteriori_k = posteriori_k / posteriori_k.sum(0)\n",
    "#             coins_k[:, 1] = coins_k[:, 1] + posteriori_k\n",
    "#         else:\n",
    "#             likelihood_k = 1 - pqr_iter\n",
    "#             posteriori_k = likelihood_k * s123_iter\n",
    "#             posteriori_k = posteriori_k / posteriori_k.sum(0)\n",
    "#             coins_k[:, 0] = coins_k[:, 0] + posteriori_k\n",
    "#     pqr_iter = coins_k[:, 1]/coins_k.sum(1)\n",
    "#     s123_iter = coins_k.sum(1)\n",
    "#     s123_iter = s123_iter / s123_iter.sum(0)\n",
    "#     print(pqr_iter)\n",
    "#     print(s123_iter)"
   ]
  }
 ],
 "metadata": {
  "deepnote": {},
  "deepnote_execution_queue": [
   {
    "cellId": "200876ef581548d2a717e1f7d5b882da",
    "msgId": "7c2c423d-71b6-470e-b219-6c5d1ffa0d1e",
    "sessionId": "d4c7b38e-4cf8-4c6c-b1b0-fc84c23150d1"
   },
   {
    "cellId": "9cc10b844e4d4184a79cae6bda842e47",
    "msgId": "dfbc95d8-98bb-4e4b-8a97-41f709e49d52",
    "sessionId": "d4c7b38e-4cf8-4c6c-b1b0-fc84c23150d1"
   },
   {
    "cellId": "0ece84513121451aafee93ff08f0983a",
    "msgId": "b8b08d57-c95d-4e92-b768-e3d1c6c5792d",
    "sessionId": "d4c7b38e-4cf8-4c6c-b1b0-fc84c23150d1"
   },
   {
    "cellId": "33d93c7aaaaa432f980c2fe3565eac5f",
    "msgId": "52ae98b2-2429-4ecc-b973-58675a47a6d0",
    "sessionId": "d4c7b38e-4cf8-4c6c-b1b0-fc84c23150d1"
   },
   {
    "cellId": "81d0efd2ae744082b8ee9b8484518875",
    "msgId": "69bcbb98-c0ec-40e4-b0d4-a824c894f4e3",
    "sessionId": "d4c7b38e-4cf8-4c6c-b1b0-fc84c23150d1"
   },
   {
    "cellId": "df43e4541ef24089984aa6561ba73e20",
    "msgId": "d09f3921-a63e-4ce6-ae2b-a9b735e76446",
    "sessionId": "d4c7b38e-4cf8-4c6c-b1b0-fc84c23150d1"
   },
   {
    "cellId": "e8437240e83143fea2a30d71a0cbfbd4",
    "msgId": "36ab5a03-fa01-4d13-9da8-436ea2e2aa1b",
    "sessionId": "d4c7b38e-4cf8-4c6c-b1b0-fc84c23150d1"
   },
   {
    "cellId": "c293c7259bda4ca6bb8772ad7eab853b",
    "msgId": "ec77226b-a913-4809-bf86-c708f2fb2998",
    "sessionId": "d4c7b38e-4cf8-4c6c-b1b0-fc84c23150d1"
   }
  ],
  "deepnote_notebook_id": "0e34e24b-15ee-484b-964d-919ba22afc61",
  "kernelspec": {
   "display_name": "Python 3",
   "language": "python",
   "name": "python3"
  },
  "language_info": {
   "codemirror_mode": {
    "name": "ipython",
    "version": 3
   },
   "file_extension": ".py",
   "mimetype": "text/x-python",
   "name": "python",
   "nbconvert_exporter": "python",
   "pygments_lexer": "ipython3",
   "version": "3.7.10"
  }
 },
 "nbformat": 4,
 "nbformat_minor": 2
}
